{
 "cells": [
  {
   "cell_type": "markdown",
   "metadata": {},
   "source": [
    "# **Transfer learnt model built on a pretrained LLM such as GPT-2**"
   ]
  },
  {
   "cell_type": "markdown",
   "metadata": {},
   "source": [
    "                                                                                        Akash(500227622) & Ramandeep(500227661)"
   ]
  },
  {
   "cell_type": "markdown",
   "metadata": {},
   "source": [
    "| **Task**                                     | **Comments**                                                                                          | **Status**      | **Individual Responsible** |\n",
    "|----------------------------------------------|------------------------------------------------------------------------------------------------------|-----------------|----------------------------|\n",
    "| **Preprocessing**                            | Handle emojis and punctuations POS tagging,Tokenization, padding, and dataset creation for GPT-2 fine-tuning.                                    | Done            | Ramandeep             |\n",
    "| **Training**                                 | Three epochs of fine-tuning GPT-2 with proper optimizer.  | Done            | Akash             |\n",
    "| **Evaluation (ROUGE-L, BERT Scores)**        | ROUGE-L and BERT scores computed for validation set predictions against ground truth responses.       | Done            | Akash            |\n",
    "| **Interpretation using LIME**                | Placeholder steps for LIME text explanations.                                     | Not applicable         | Akash             |\n",
    "| **1st round of tuning** | Fine-tuned learning rate from 5e-5 to 1e-4 for better model stability. | Done            | Ramandeep             |\n",
    "| **2nd round of tuning** | Adjusted training loop for augmented dataset to enhance training diversity.                          | Done            | Akash             |\n",
    "| **Final AUC Value**             | Achieved AUC value of 1.0 shows Strong distinguishability.                               | Done            | Ramandeep             |\n",
    "| **Next Steps Recommendations**               | Evaluate on larger datasets, analyze model outputs, experiment with hyperparameters, integrate LIME/SHAP, use user feedback. | Done         | Akash & Ramandeep               |\n"
   ]
  },
  {
   "cell_type": "markdown",
   "metadata": {},
   "source": [
    "Importing libraries"
   ]
  },
  {
   "cell_type": "code",
   "execution_count": 1,
   "metadata": {},
   "outputs": [],
   "source": [
    "import pandas as pd\n",
    "import re\n",
    "import emoji\n",
    "import random\n",
    "import spacy\n",
    "import nltk\n",
    "from nltk.tokenize import word_tokenize\n",
    "from nltk.corpus import stopwords\n",
    "from nltk import pos_tag\n",
    "import ast\n",
    "from transformers import pipeline\n",
    "import numpy as np\n",
    "from lime.lime_text import LimeTextExplainer\n",
    "from transformers import pipeline\n",
    "from evaluate import load\n",
    "import torch\n",
    "from transformers import AdamW\n",
    "from tqdm import tqdm\n",
    "from torch.utils.data import Dataset, DataLoader\n",
    "from transformers import GPT2Tokenizer, GPT2LMHeadModel"
   ]
  },
  {
   "cell_type": "code",
   "execution_count": 2,
   "metadata": {},
   "outputs": [
    {
     "name": "stderr",
     "output_type": "stream",
     "text": [
      "[nltk_data] Downloading package punkt to\n",
      "[nltk_data]     C:\\Users\\pc\\AppData\\Roaming\\nltk_data...\n",
      "[nltk_data]   Package punkt is already up-to-date!\n",
      "[nltk_data] Downloading package averaged_perceptron_tagger to\n",
      "[nltk_data]     C:\\Users\\pc\\AppData\\Roaming\\nltk_data...\n",
      "[nltk_data]   Package averaged_perceptron_tagger is already up-to-\n",
      "[nltk_data]       date!\n",
      "[nltk_data] Downloading package stopwords to\n",
      "[nltk_data]     C:\\Users\\pc\\AppData\\Roaming\\nltk_data...\n",
      "[nltk_data]   Package stopwords is already up-to-date!\n"
     ]
    },
    {
     "data": {
      "text/plain": [
       "True"
      ]
     },
     "execution_count": 2,
     "metadata": {},
     "output_type": "execute_result"
    }
   ],
   "source": [
    "nltk.download('punkt')\n",
    "nltk.download('averaged_perceptron_tagger')\n",
    "nltk.download('stopwords')"
   ]
  },
  {
   "cell_type": "markdown",
   "metadata": {},
   "source": [
    "Datapreprocessing"
   ]
  },
  {
   "cell_type": "code",
   "execution_count": 3,
   "metadata": {},
   "outputs": [],
   "source": [
    "# Load the dataset\n",
    "file_path = 'E:\\\\Chat Data\\\\chat_data.csv'\n",
    "data = pd.read_csv(file_path)"
   ]
  },
  {
   "cell_type": "code",
   "execution_count": 4,
   "metadata": {},
   "outputs": [
    {
     "data": {
      "text/html": [
       "<div>\n",
       "<style scoped>\n",
       "    .dataframe tbody tr th:only-of-type {\n",
       "        vertical-align: middle;\n",
       "    }\n",
       "\n",
       "    .dataframe tbody tr th {\n",
       "        vertical-align: top;\n",
       "    }\n",
       "\n",
       "    .dataframe thead th {\n",
       "        text-align: right;\n",
       "    }\n",
       "</style>\n",
       "<table border=\"1\" class=\"dataframe\">\n",
       "  <thead>\n",
       "    <tr style=\"text-align: right;\">\n",
       "      <th></th>\n",
       "      <th>conversations</th>\n",
       "      <th>id</th>\n",
       "    </tr>\n",
       "  </thead>\n",
       "  <tbody>\n",
       "    <tr>\n",
       "      <th>0</th>\n",
       "      <td>[{'from': 'human', 'value': \"I've been feeling...</td>\n",
       "      <td>identity_0</td>\n",
       "    </tr>\n",
       "    <tr>\n",
       "      <th>1</th>\n",
       "      <td>[{'from': 'human', 'value': \"Hi, I'm feeling r...</td>\n",
       "      <td>identity_1</td>\n",
       "    </tr>\n",
       "    <tr>\n",
       "      <th>2</th>\n",
       "      <td>[{'from': 'human', 'value': \"Hey, I hope you'r...</td>\n",
       "      <td>identity_2</td>\n",
       "    </tr>\n",
       "    <tr>\n",
       "      <th>3</th>\n",
       "      <td>[{'from': 'human', 'value': \"I'm feeling reall...</td>\n",
       "      <td>identity_3</td>\n",
       "    </tr>\n",
       "    <tr>\n",
       "      <th>4</th>\n",
       "      <td>[{'from': 'human', 'value': \"I'm feeling reall...</td>\n",
       "      <td>identity_4</td>\n",
       "    </tr>\n",
       "  </tbody>\n",
       "</table>\n",
       "</div>"
      ],
      "text/plain": [
       "                                       conversations          id\n",
       "0  [{'from': 'human', 'value': \"I've been feeling...  identity_0\n",
       "1  [{'from': 'human', 'value': \"Hi, I'm feeling r...  identity_1\n",
       "2  [{'from': 'human', 'value': \"Hey, I hope you'r...  identity_2\n",
       "3  [{'from': 'human', 'value': \"I'm feeling reall...  identity_3\n",
       "4  [{'from': 'human', 'value': \"I'm feeling reall...  identity_4"
      ]
     },
     "execution_count": 4,
     "metadata": {},
     "output_type": "execute_result"
    }
   ],
   "source": [
    "data.head()"
   ]
  },
  {
   "cell_type": "code",
   "execution_count": 5,
   "metadata": {},
   "outputs": [],
   "source": [
    "#Handle emojis\n",
    "def handle_emojis(text):\n",
    "    return emoji.demojize(text, delimiters=(\"\", \"\"))\n",
    "data['conversations'] = data['conversations'].apply(handle_emojis)\n",
    "\n",
    "#Randomly select 840 rows\n",
    "random.seed(42)\n",
    "sampled_data = data.sample(n=840, random_state=42)"
   ]
  },
  {
   "cell_type": "code",
   "execution_count": 6,
   "metadata": {},
   "outputs": [],
   "source": [
    "slang_dict = {\n",
    "    \"u\": \"you\", \"r\": \"are\", \"idk\": \"I don't know\", \"btw\": \"by the way\", \n",
    "    \"gonna\": \"going to\", \"wanna\": \"want to\", \"y'all\": \"you all\", \"omg\": \"oh my god\",\n",
    "}\n",
    "def expand_slangs(text):\n",
    "    words = text.split()\n",
    "    expanded_words = [slang_dict.get(word.lower(), word) for word in words]\n",
    "    return \" \".join(expanded_words)\n",
    "\n",
    "#Remove punctuations\n",
    "def remove_punctuation(text):\n",
    "    return re.sub(r'[^\\w\\s]', '', text)\n"
   ]
  },
  {
   "cell_type": "code",
   "execution_count": 7,
   "metadata": {},
   "outputs": [],
   "source": [
    "#apply slang expansion and punctuation removal\n",
    "sampled_data['conversations'] = sampled_data['conversations'].apply(expand_slangs)\n",
    "sampled_data['conversations'] = sampled_data['conversations'].apply(remove_punctuation)"
   ]
  },
  {
   "cell_type": "code",
   "execution_count": 9,
   "metadata": {},
   "outputs": [],
   "source": [
    "nlp = spacy.load(\"en_core_web_sm\")\n",
    "def pos_tagging(text):\n",
    "    doc = nlp(text)\n",
    "    return [(token.text, token.pos_) for token in doc]\n",
    "\n",
    "#apply POS tagging\n",
    "sampled_data['pos_tags'] = sampled_data['conversations'].apply(pos_tagging)"
   ]
  },
  {
   "cell_type": "code",
   "execution_count": 10,
   "metadata": {},
   "outputs": [],
   "source": [
    "pronoun_dict = {\n",
    "    \"i\": \"I\", \"im\": \"I am\", \"ive\": \"I have\", \n",
    "    \"youve\": \"you have\", \"youre\": \"you are\",\n",
    "    \"hes\": \"he is\", \"shes\": \"she is\",\n",
    "}\n",
    "\n",
    "# Replace pronouns\n",
    "def replace_pronouns(text):\n",
    "    words = text.split()\n",
    "    replaced_words = [pronoun_dict.get(word.lower(), word) for word in words]\n",
    "    return \" \".join(replaced_words)\n",
    "\n",
    "def clean_special_characters(text):\n",
    "    return re.sub(r'\\s+', ' ', text).strip()\n",
    "\n",
    "#Apply pronoun replacement and special character\n",
    "sampled_data['conversations'] = sampled_data['conversations'].apply(replace_pronouns)\n",
    "sampled_data['conversations'] = sampled_data['conversations'].apply(clean_special_characters)\n"
   ]
  },
  {
   "cell_type": "code",
   "execution_count": 11,
   "metadata": {},
   "outputs": [],
   "source": [
    "# Tokenize text\n",
    "sampled_data['tokens'] = sampled_data['conversations'].apply(word_tokenize)"
   ]
  },
  {
   "cell_type": "code",
   "execution_count": 12,
   "metadata": {},
   "outputs": [],
   "source": [
    "#Converting to lowercase\n",
    "sampled_data['tokens'] = sampled_data['tokens'].apply(lambda tokens: [token.lower() for token in tokens])\n"
   ]
  },
  {
   "cell_type": "code",
   "execution_count": 13,
   "metadata": {},
   "outputs": [],
   "source": [
    "#Droping unwanted columns\n",
    "sampled_data = sampled_data.drop(columns=['id', 'pos_tags', 'tokens'])"
   ]
  },
  {
   "cell_type": "code",
   "execution_count": 14,
   "metadata": {},
   "outputs": [],
   "source": [
    "data.columns = data.columns.str.strip()\n",
    "sampled_data.columns = sampled_data.columns.str.strip()"
   ]
  },
  {
   "cell_type": "code",
   "execution_count": 15,
   "metadata": {},
   "outputs": [],
   "source": [
    "# Function to clean and split the conversation into human and gpt responses\n",
    "def clean_and_split_conversation(conversation):\n",
    "    human_responses = []\n",
    "    gpt_responses = []\n",
    "    conversation_lines = conversation.splitlines()\n",
    "\n",
    "    for line in conversation_lines:\n",
    "        if line.strip():  \n",
    "            line = line.strip().replace('value', '')\n",
    "            line = re.sub(r'[^\\w\\s]', '', line)  # Remove punctuation\n",
    "            \n",
    "            if 'human' in line.lower():\n",
    "                response = line.lower().replace('human', '').strip()\n",
    "                human_responses.append(response)\n",
    "            elif 'gpt' in line.lower():\n",
    "                response = line.lower().replace('gpt', '').strip()\n",
    "                gpt_responses.append(response)\n",
    "    return pd.Series([', '.join(human_responses), ', '.join(gpt_responses)])\n",
    "\n",
    "# Apply the function to 'conversations' column\n",
    "sampled_data[['human', 'gpt']] = sampled_data['conversations'].apply(clean_and_split_conversation)\n",
    "sampled_data = sampled_data.drop(columns=['conversations'])\n"
   ]
  },
  {
   "cell_type": "code",
   "execution_count": 50,
   "metadata": {},
   "outputs": [],
   "source": [
    "sampled_data.to_csv('processed_data.csv', index=False)"
   ]
  },
  {
   "cell_type": "markdown",
   "metadata": {},
   "source": [
    "**Modelling**"
   ]
  },
  {
   "cell_type": "code",
   "execution_count": null,
   "metadata": {},
   "outputs": [
    {
     "data": {
      "text/html": [
       "<div>\n",
       "<style scoped>\n",
       "    .dataframe tbody tr th:only-of-type {\n",
       "        vertical-align: middle;\n",
       "    }\n",
       "\n",
       "    .dataframe tbody tr th {\n",
       "        vertical-align: top;\n",
       "    }\n",
       "\n",
       "    .dataframe thead th {\n",
       "        text-align: right;\n",
       "    }\n",
       "</style>\n",
       "<table border=\"1\" class=\"dataframe\">\n",
       "  <thead>\n",
       "    <tr style=\"text-align: right;\">\n",
       "      <th></th>\n",
       "      <th>0</th>\n",
       "      <th>human</th>\n",
       "      <th>gpt</th>\n",
       "    </tr>\n",
       "  </thead>\n",
       "  <tbody>\n",
       "    <tr>\n",
       "      <th>0</th>\n",
       "      <td>1</td>\n",
       "      <td>ive been feeling so sad and overwhelmed lately...</td>\n",
       "      <td>hey there im here to listen and support you it...</td>\n",
       "    </tr>\n",
       "    <tr>\n",
       "      <th>1</th>\n",
       "      <td>2</td>\n",
       "      <td>i recently got a promotion at work which i tho...</td>\n",
       "      <td>i can understand how it can be overwhelming wh...</td>\n",
       "    </tr>\n",
       "    <tr>\n",
       "      <th>2</th>\n",
       "      <td>3</td>\n",
       "      <td>well the workload has increased significantly ...</td>\n",
       "      <td>it sounds like youre dealing with a lot of pre...</td>\n",
       "    </tr>\n",
       "    <tr>\n",
       "      <th>3</th>\n",
       "      <td>4</td>\n",
       "      <td>ive been trying to prioritize my tasks and del...</td>\n",
       "      <td>its great to hear that youre already implement...</td>\n",
       "    </tr>\n",
       "    <tr>\n",
       "      <th>4</th>\n",
       "      <td>5</td>\n",
       "      <td>youre right i havent really opened up about my...</td>\n",
       "      <td>its completely normal to feel that way but rem...</td>\n",
       "    </tr>\n",
       "  </tbody>\n",
       "</table>\n",
       "</div>"
      ],
      "text/plain": [
       "   0                                              human  \\\n",
       "0  1  ive been feeling so sad and overwhelmed lately...   \n",
       "1  2  i recently got a promotion at work which i tho...   \n",
       "2  3  well the workload has increased significantly ...   \n",
       "3  4  ive been trying to prioritize my tasks and del...   \n",
       "4  5  youre right i havent really opened up about my...   \n",
       "\n",
       "                                                 gpt  \n",
       "0  hey there im here to listen and support you it...  \n",
       "1  i can understand how it can be overwhelming wh...  \n",
       "2  it sounds like youre dealing with a lot of pre...  \n",
       "3  its great to hear that youre already implement...  \n",
       "4  its completely normal to feel that way but rem...  "
      ]
     },
     "execution_count": 16,
     "metadata": {},
     "output_type": "execute_result"
    }
   ],
   "source": [
    "file_path = \"processed_data.csv\"\n",
    "data = pd.read_csv(file_path)\n",
    "\n",
    "#Selecting 50 rows ( because system was crashing)\n",
    "sample_data = data.head(50)\n",
    "sample_data.head()"
   ]
  },
  {
   "cell_type": "code",
   "execution_count": 17,
   "metadata": {},
   "outputs": [
    {
     "name": "stderr",
     "output_type": "stream",
     "text": [
      "C:\\Users\\pc\\AppData\\Local\\Temp\\ipykernel_6856\\2625596525.py:2: SettingWithCopyWarning: \n",
      "A value is trying to be set on a copy of a slice from a DataFrame.\n",
      "Try using .loc[row_indexer,col_indexer] = value instead\n",
      "\n",
      "See the caveats in the documentation: https://pandas.pydata.org/pandas-docs/stable/user_guide/indexing.html#returning-a-view-versus-a-copy\n",
      "  sample_data['conversation'] = \"Human: \" + sample_data['human'] + \" GPT: \" + sample_data['gpt']\n"
     ]
    },
    {
     "data": {
      "text/plain": [
       "0    Human: ive been feeling so sad and overwhelmed...\n",
       "1    Human: i recently got a promotion at work whic...\n",
       "2    Human: well the workload has increased signifi...\n",
       "3    Human: ive been trying to prioritize my tasks ...\n",
       "4    Human: youre right i havent really opened up a...\n",
       "Name: conversation, dtype: object"
      ]
     },
     "execution_count": 17,
     "metadata": {},
     "output_type": "execute_result"
    }
   ],
   "source": [
    "# Combine `human` and `gpt` into a single conversation column\n",
    "sample_data['conversation'] = \"Human: \" + sample_data['human'] + \" GPT: \" + sample_data['gpt']\n",
    "\n",
    "# Check the new column\n",
    "sample_data['conversation'].head()"
   ]
  },
  {
   "cell_type": "code",
   "execution_count": 18,
   "metadata": {},
   "outputs": [
    {
     "name": "stdout",
     "output_type": "stream",
     "text": [
      "Train set: 26 rows\n",
      "Validation set: 12 rows\n",
      "Test set: 12 rows\n"
     ]
    }
   ],
   "source": [
    "# Split into train, validation and test sets\n",
    "train_data = sample_data[:26]  \n",
    "val_data = sample_data[26:38]  \n",
    "test_data = sample_data[38:]   \n",
    "\n",
    "print(f\"Train set: {len(train_data)} rows\")\n",
    "print(f\"Validation set: {len(val_data)} rows\")\n",
    "print(f\"Test set: {len(test_data)} rows\")"
   ]
  },
  {
   "cell_type": "markdown",
   "metadata": {},
   "source": [
    "\n",
    "Load GPT-2 tokenizer and model"
   ]
  },
  {
   "cell_type": "code",
   "execution_count": 19,
   "metadata": {},
   "outputs": [],
   "source": [
    "tokenizer = GPT2Tokenizer.from_pretrained(\"gpt2\")\n",
    "model = GPT2LMHeadModel.from_pretrained(\"gpt2\")"
   ]
  },
  {
   "cell_type": "code",
   "execution_count": 20,
   "metadata": {},
   "outputs": [
    {
     "name": "stderr",
     "output_type": "stream",
     "text": [
      "The new embeddings will be initialized from a multivariate normal distribution that has old embeddings' mean and covariance. As described in this article: https://nlp.stanford.edu/~johnhew/vocab-expansion.html. To disable this, use `mean_resizing=False`\n"
     ]
    },
    {
     "data": {
      "text/plain": [
       "Embedding(50258, 768)"
      ]
     },
     "execution_count": 20,
     "metadata": {},
     "output_type": "execute_result"
    }
   ],
   "source": [
    "tokenizer.add_special_tokens({'pad_token': '<|pad|>'})\n",
    "model.resize_token_embeddings(len(tokenizer))"
   ]
  },
  {
   "cell_type": "code",
   "execution_count": 21,
   "metadata": {},
   "outputs": [],
   "source": [
    "class ChatDataset(Dataset):\n",
    "    def __init__(self, conversations, tokenizer, max_length=512):\n",
    "        self.conversations = conversations\n",
    "        self.tokenizer = tokenizer\n",
    "        self.max_length = max_length\n",
    "\n",
    "    def __len__(self):\n",
    "        return len(self.conversations)\n",
    "\n",
    "    def __getitem__(self, idx):\n",
    "        text = self.conversations[idx]\n",
    "        inputs = self.tokenizer(\n",
    "            text,\n",
    "            truncation=True,\n",
    "            max_length=self.max_length,\n",
    "            padding=\"max_length\",\n",
    "            return_tensors=\"pt\"\n",
    "        )\n",
    "        return {\n",
    "            \"input_ids\": inputs[\"input_ids\"].squeeze(),\n",
    "            \"attention_mask\": inputs[\"attention_mask\"].squeeze(),\n",
    "        }\n",
    "\n",
    "# Prepare datasets\n",
    "train_dataset = ChatDataset(train_data['conversation'].tolist(), tokenizer)\n",
    "val_dataset = ChatDataset(val_data['conversation'].tolist(), tokenizer)\n",
    "test_dataset = ChatDataset(test_data['conversation'].tolist(), tokenizer)\n"
   ]
  },
  {
   "cell_type": "code",
   "execution_count": 22,
   "metadata": {},
   "outputs": [
    {
     "name": "stdout",
     "output_type": "stream",
     "text": [
      "Train loader batches: 13\n",
      "Validation loader batches: 6\n",
      "Test loader batches: 6\n"
     ]
    }
   ],
   "source": [
    "# Create data loaders with a small batch size\n",
    "train_loader = DataLoader(train_dataset, batch_size=2, shuffle=True)\n",
    "val_loader = DataLoader(val_dataset, batch_size=2)\n",
    "test_loader = DataLoader(test_dataset, batch_size=2)\n",
    "\n",
    "# Verify data loader sizes\n",
    "print(f\"Train loader batches: {len(train_loader)}\")\n",
    "print(f\"Validation loader batches: {len(val_loader)}\")\n",
    "print(f\"Test loader batches: {len(test_loader)}\")\n"
   ]
  },
  {
   "cell_type": "markdown",
   "metadata": {},
   "source": [
    "Freezing first 6 layers"
   ]
  },
  {
   "cell_type": "code",
   "execution_count": 23,
   "metadata": {},
   "outputs": [],
   "source": [
    "N = 6\n",
    "for param in model.transformer.h[:N].parameters():\n",
    "    param.requires_grad = False"
   ]
  },
  {
   "cell_type": "markdown",
   "metadata": {},
   "source": [
    "Define optimizer"
   ]
  },
  {
   "cell_type": "code",
   "execution_count": 24,
   "metadata": {},
   "outputs": [
    {
     "name": "stderr",
     "output_type": "stream",
     "text": [
      "C:\\Users\\pc\\AppData\\Roaming\\Python\\Python312\\site-packages\\transformers\\optimization.py:591: FutureWarning: This implementation of AdamW is deprecated and will be removed in a future version. Use the PyTorch implementation torch.optim.AdamW instead, or set `no_deprecation_warning=True` to disable this warning\n",
      "  warnings.warn(\n",
      "Epoch 1/3: 100%|██████████| 13/13 [01:58<00:00,  9.11s/it]\n"
     ]
    },
    {
     "name": "stdout",
     "output_type": "stream",
     "text": [
      "Epoch 1 Loss: 11.1060\n"
     ]
    },
    {
     "name": "stderr",
     "output_type": "stream",
     "text": [
      "Epoch 2/3: 100%|██████████| 13/13 [01:39<00:00,  7.64s/it]\n"
     ]
    },
    {
     "name": "stdout",
     "output_type": "stream",
     "text": [
      "Epoch 2 Loss: 9.6153\n"
     ]
    },
    {
     "name": "stderr",
     "output_type": "stream",
     "text": [
      "Epoch 3/3: 100%|██████████| 13/13 [01:38<00:00,  7.60s/it]"
     ]
    },
    {
     "name": "stdout",
     "output_type": "stream",
     "text": [
      "Epoch 3 Loss: 8.3855\n"
     ]
    },
    {
     "name": "stderr",
     "output_type": "stream",
     "text": [
      "\n"
     ]
    }
   ],
   "source": [
    "optimizer = AdamW(filter(lambda p: p.requires_grad, model.parameters()), lr=5e-5)\n",
    "\n",
    "device = torch.device(\"cuda\" if torch.cuda.is_available() else \"cpu\")\n",
    "model.to(device)\n",
    "\n",
    "# Training loop\n",
    "epochs = 3\n",
    "for epoch in range(epochs):\n",
    "    model.train()\n",
    "    epoch_loss = 0\n",
    "    for batch in tqdm(train_loader, desc=f\"Epoch {epoch+1}/{epochs}\"):\n",
    "        optimizer.zero_grad()\n",
    "        input_ids = batch[\"input_ids\"].to(device)\n",
    "        attention_mask = batch[\"attention_mask\"].to(device)\n",
    "\n",
    "        # Forward pass\n",
    "        outputs = model(\n",
    "            input_ids=input_ids,\n",
    "            attention_mask=attention_mask,\n",
    "            labels=input_ids\n",
    "        )\n",
    "        loss = outputs.loss\n",
    "        loss.backward()\n",
    "        optimizer.step()\n",
    "        epoch_loss += loss.item()\n",
    "\n",
    "    avg_loss = epoch_loss / len(train_loader)\n",
    "    print(f\"Epoch {epoch+1} Loss: {avg_loss:.4f}\")\n"
   ]
  },
  {
   "cell_type": "code",
   "execution_count": 25,
   "metadata": {},
   "outputs": [],
   "source": [
    "# Function to generate responses\n",
    "def generate_response(prompt, model, tokenizer, max_new_tokens=50):\n",
    "    # Tokenize the input prompt\n",
    "    input_ids = tokenizer(prompt, return_tensors=\"pt\").input_ids.to(device)\n",
    "    \n",
    "    output_ids = model.generate(\n",
    "        input_ids,\n",
    "        max_new_tokens=max_new_tokens,\n",
    "        pad_token_id=tokenizer.pad_token_id\n",
    "    )\n",
    "    \n",
    "    # Decode the generated tokens into a string\n",
    "    return tokenizer.decode(output_ids[0], skip_special_tokens=True)\n"
   ]
  },
  {
   "cell_type": "code",
   "execution_count": 26,
   "metadata": {},
   "outputs": [
    {
     "name": "stdout",
     "output_type": "stream",
     "text": [
      "Generated Responses: ['Human: i have a few close friends who have always been there for me maybe its time i lean on them more GPT: its wonderful that you have a support system already in place remember that its okay to ask for help and lean on those who care about you to help you navigate your way through this difficult time.\\n\\nRAW Paste Data\\n\\nHello everyone! I am here to talk about my experiences with my friends and family and how they have been able to support me through this difficult time. I am', 'Human: ill definitely make a conscious effort to reach out when i need support it just feels nice knowing that im not alone in this GPT: youre never alone in this journey its important to regularly check in with yourself and your emotions are there any selfcare practices you enjoy or would like to explore to help you navigate this conflict.\\n\\nRAW Paste Data\\n\\nDear Reader, As you can imagine, more people are reading The Jerusalem Post than ever before. Nevertheless, traditional business models are no longer sustainable and high-quality publications, like ours, are being forced to look', 'Human: ive always found solace in art maybe i can start painting again and use it as an outlet for my emotions GPT: that sounds like a fantastic idea art therapy can be a powerful tool for selfexpression and emotional healing it can help you connect with your feelings on a deeper level than just your emotions.\\n\\nAdvertisements', \"Human: thank you for your guidance and support i really appreciate it GPT: youre welcome remember healing takes time so be patient with yourself im here for you every step of the way feel free to reach out whenever you need to talk about anything you can about this or any other topic you feel like you can help us understand what you're up against i hope you can find a way to help us understand what you're up against i hope you can find a way to help us understand\", 'Human: im feeling extremely upset today its so hard to trust in myself GPT: im here for you can you tell me more about whats causing you to feel upset and why its difficult to trust yourself? i dont know how you feel about me but its been a while since i have been here im glad you are here to help you understand whats going on im glad you are here to help you understand whats going on im glad you are here to help', 'Human: i constantly doubt my abilities and feel like im never good enough its hard to have confidence in my decisions when im afraid of making mistakes GPT: it sounds like selfesteem is a major issue for you can you recall any specific experiences or moments that have contributed to this lack of trust in yourself and your abilities?\\n\\nReply · Report Post', 'Human: well in school i always compared myself to others and felt like i couldnt measure up i was often criticized by teachers and classmates and that made me doubt my own worth GPT: im sorry to hear that you went through such challenging experiences its understandable how those experiences would have a lasting impact on your selfesteem can you remember any instances when you did feel confident in yourself or your abilities?\\n\\nAnonymous 05/12/15 (Tue) 07:33:49 AM No. 95958 >>95958\\n\\nI remember feeling like i was a burden to myself and my friends and my coworkers and my', 'Human: there were a few times when i achieved something i had worked really hard for like getting a good grade on a project or receiving praise for my talent but those moments were fleeting and the doubt quickly crept back in GPT: its essential to acknowledge your accomplishments and the moments when you do feel capable im curious how do you see yourself in comparison to others who have been through similar experiences?\\n\\nI feel like I have been through a lot of challenges and setbacks but I feel like I have been able to overcome them without feeling overwhelmed by them. I feel like I have been able to express myself through', 'Human: i often feel like everyone else has it all together and im the only one struggling i tend to think that im inherently flawed which makes it hard to trust my own abilities GPT: remember everyone has their own struggles and insecurities even if they might not show it its important to realize that you have unique strengths and talents that make you who you are have you ever tried reframing your negative thoughts about yourself and its important to remember that you have been through a lot and you can tell its not always easy to find your way around its important to remember that you have been through a lot and you can tell its not always easy to find your way around its', 'Human: ive tried but its challenging to shift my perspective it feels natural to be selfcritical and find flaws in everything i do GPT: changing thought patterns takes time and practice have you considered engaging in activities that boost your selfesteem such as pursuing hobbies or setting achievable goals?\\n\\nI have been doing this for a while now and its been a great experience. I have been able to understand myself better and understand my emotions and emotions have been a great help to me understand myself better and understand my emotions have been a', 'Human: i guess ive never really tried those things im afraid of failure and worry that even if i try i wont succeed GPT: its understandable to feel apprehensive but remember that selfesteem is built through experience and overcoming challenges taking small steps and celebrating even the smallest victories can help you build confidence whats one small goal youd like to accomplish?\\n\\nReply · Report Post', 'Human: i suppose i could start by dedicating some time each day to a hobby i enjoy like painting maybe if i focus on something i love it will help boost my selfesteem GPT: thats a wonderful idea engaging in activities that bring you joy and allow for selfexpression can have a tremendous impact on your selfesteem remember to be kind to yourself throughout this process and celebrate each step forward no matter how small or insignificant it may seem.']\n",
      "Ground Truths: ['Human: i have a few close friends who have always been there for me maybe its time i lean on them more GPT: its wonderful that you have a support system already in place remember that its okay to ask for help and lean on those who care about you', 'Human: ill definitely make a conscious effort to reach out when i need support it just feels nice knowing that im not alone in this GPT: youre never alone in this journey its important to regularly check in with yourself and your emotions are there any selfcare practices you enjoy or would like to explore to help you navigate this conflict', 'Human: ive always found solace in art maybe i can start painting again and use it as an outlet for my emotions GPT: that sounds like a fantastic idea art therapy can be a powerful tool for selfexpression and emotional healing it can help you connect with your feelings on a deeper level', 'Human: thank you for your guidance and support i really appreciate it GPT: youre welcome remember healing takes time so be patient with yourself im here for you every step of the way feel free to reach out whenever you need to talk', 'Human: im feeling extremely upset today its so hard to trust in myself GPT: im here for you can you tell me more about whats causing you to feel upset and why its difficult to trust yourself', 'Human: i constantly doubt my abilities and feel like im never good enough its hard to have confidence in my decisions when im afraid of making mistakes GPT: it sounds like selfesteem is a major issue for you can you recall any specific experiences or moments that have contributed to this lack of trust in yourself', 'Human: well in school i always compared myself to others and felt like i couldnt measure up i was often criticized by teachers and classmates and that made me doubt my own worth GPT: im sorry to hear that you went through such challenging experiences its understandable how those experiences would have a lasting impact on your selfesteem can you remember any instances when you did feel confident in yourself', 'Human: there were a few times when i achieved something i had worked really hard for like getting a good grade on a project or receiving praise for my talent but those moments were fleeting and the doubt quickly crept back in GPT: its essential to acknowledge your accomplishments and the moments when you do feel capable im curious how do you see yourself in comparison to others', 'Human: i often feel like everyone else has it all together and im the only one struggling i tend to think that im inherently flawed which makes it hard to trust my own abilities GPT: remember everyone has their own struggles and insecurities even if they might not show it its important to realize that you have unique strengths and talents that make you who you are have you ever tried reframing your negative thoughts about yourself', 'Human: ive tried but its challenging to shift my perspective it feels natural to be selfcritical and find flaws in everything i do GPT: changing thought patterns takes time and practice have you considered engaging in activities that boost your selfesteem such as pursuing hobbies or setting achievable goals', 'Human: i guess ive never really tried those things im afraid of failure and worry that even if i try i wont succeed GPT: its understandable to feel apprehensive but remember that selfesteem is built through experience and overcoming challenges taking small steps and celebrating even the smallest victories can help you build confidence whats one small goal youd like to accomplish', 'Human: i suppose i could start by dedicating some time each day to a hobby i enjoy like painting maybe if i focus on something i love it will help boost my selfesteem GPT: thats a wonderful idea engaging in activities that bring you joy and allow for selfexpression can have a tremendous impact on your selfesteem remember to be kind to yourself throughout this process and celebrate each step forward no matter how small']\n"
     ]
    }
   ],
   "source": [
    "# Generate and evaluate responses on the test set\n",
    "model.eval()\n",
    "generated_responses = []\n",
    "ground_truths = []\n",
    "\n",
    "for batch in test_loader:\n",
    "    for input_ids in batch[\"input_ids\"]:\n",
    "        # Decode the input prompt\n",
    "        prompt = tokenizer.decode(input_ids, skip_special_tokens=True)\n",
    "        response = generate_response(prompt, model, tokenizer, max_new_tokens=50)\n",
    "        \n",
    "        # Collect generated responses and ground truths\n",
    "        generated_responses.append(response)\n",
    "        ground_truths.append(prompt)\n",
    "\n",
    "print(\"Generated Responses:\", generated_responses)\n",
    "print(\"Ground Truths:\", ground_truths)\n"
   ]
  },
  {
   "cell_type": "markdown",
   "metadata": {},
   "source": [
    "Loading and compute metrics"
   ]
  },
  {
   "cell_type": "code",
   "execution_count": 28,
   "metadata": {},
   "outputs": [
    {
     "name": "stdout",
     "output_type": "stream",
     "text": [
      "ROUGE-L: 0.7967323161792907\n",
      "BERT Score: [0.838638961315155, 0.8232792615890503, 0.9712232351303101, 0.7971480488777161, 0.8147158026695251, 0.9561942219734192, 0.8509508967399597, 0.8607290983200073, 0.8783012628555298, 0.8457299470901489, 0.9734296798706055, 0.9757768511772156]\n"
     ]
    }
   ],
   "source": [
    "rouge = load(\"rouge\")\n",
    "bert_score = load(\"bertscore\")\n",
    "\n",
    "# Compute metrics\n",
    "rouge_scores = rouge.compute(predictions=generated_responses, references=ground_truths)\n",
    "bert_scores = bert_score.compute(predictions=generated_responses, references=ground_truths, model_type=\"bert-base-uncased\")\n",
    "\n",
    "# Display scores\n",
    "print(\"ROUGE-L:\", rouge_scores[\"rougeL\"])\n",
    "print(\"BERT Score:\", bert_scores[\"f1\"])\n"
   ]
  },
  {
   "cell_type": "code",
   "execution_count": 29,
   "metadata": {},
   "outputs": [
    {
     "name": "stdout",
     "output_type": "stream",
     "text": [
      "Generated Response: How are you? What was your day like?\"\n",
      "\n",
      "\n",
      "Kirk is always happy to give feedback like that during games where he is constantly dealing with challenges throughout development. Even recently Kirk said that he didn't have a break for more than a few months before the decision\n"
     ]
    }
   ],
   "source": [
    "device = 0 if torch.cuda.is_available() else -1\n",
    "\n",
    "# Initialize text generation pipeline\n",
    "text_generator = pipeline(\"text-generation\", model=model, tokenizer=tokenizer, device=device)\n",
    "\n",
    "# Test the pipeline\n",
    "sample_text = \"How are you?\"\n",
    "response = text_generator(sample_text, max_new_tokens=50)\n",
    "print(\"Generated Response:\", response[0][\"generated_text\"])\n"
   ]
  },
  {
   "cell_type": "markdown",
   "metadata": {},
   "source": [
    "Interpretability using LIME"
   ]
  },
  {
   "cell_type": "code",
   "execution_count": null,
   "metadata": {},
   "outputs": [],
   "source": [
    "#from lime.lime_text import LimeTextExplainer\n",
    "#import numpy as np\n",
    "\n",
    "# Create a LimeTextExplainer\n",
    "#explainer = LimeTextExplainer(class_names=[\"Generated Response\"])\n"
   ]
  },
  {
   "cell_type": "code",
   "execution_count": null,
   "metadata": {},
   "outputs": [],
   "source": [
    "# Define a prediction function for the model to be used in LIME\n",
    "#def predict(input_texts):\n",
    "    # Tokenize and prepare inputs for GPT-2 model\n",
    "#    inputs = tokenizer(input_texts, return_tensors=\"pt\", padding=True, truncation=True, max_length=512)\n",
    "#    input_ids = inputs['input_ids'].to(device)\n",
    "#    attention_mask = inputs['attention_mask'].to(device)\n",
    "\n",
    "    # Generate model output\n",
    "#    with torch.no_grad():\n",
    "#        outputs = model.generate(input_ids, attention_mask=attention_mask, max_new_tokens=50, pad_token_id=tokenizer.pad_token_id)\n",
    "\n",
    "    # Decode and return the predictions\n",
    "#    predictions = [tokenizer.decode(output, skip_special_tokens=True) for output in outputs]\n",
    "#    return predictions\n"
   ]
  },
  {
   "cell_type": "code",
   "execution_count": null,
   "metadata": {},
   "outputs": [],
   "source": [
    "# Ensure the device is set correctly\n",
    "#device = torch.device(\"cpu\")\n",
    "#model.to(device)  # Move the model to the device\n"
   ]
  },
  {
   "cell_type": "code",
   "execution_count": null,
   "metadata": {},
   "outputs": [],
   "source": [
    "#def predict(input_texts):\n",
    "    # Tokenize and prepare inputs\n",
    "#    inputs = tokenizer(input_texts, return_tensors=\"pt\", padding=True, truncation=True, max_length=128)\n",
    "#    input_ids = inputs['input_ids'].to(device)\n",
    "#    attention_mask = inputs['attention_mask'].to(device)\n",
    "\n",
    "    # Generate model output (logits)\n",
    "#    with torch.no_grad():\n",
    "#        outputs = model(input_ids, attention_mask=attention_mask)\n",
    "#        logits = outputs.logits  # Shape (batch_size, seq_length, num_classes)\n",
    "\n",
    "    # If you are dealing with a classification task, use the logits for the last token\n",
    "#    logits = logits[:, -1, :]  # Take the last token’s logits (or use mean across tokens)\n",
    "    \n",
    "    # Convert logits to probabilities (softmax)\n",
    "#    probabilities = torch.softmax(logits, dim=-1).cpu().numpy()\n",
    "\n",
    "    # Return the class-level probabilities (e.g., for classification task)\n",
    "#    return probabilities\n"
   ]
  },
  {
   "cell_type": "code",
   "execution_count": null,
   "metadata": {},
   "outputs": [],
   "source": [
    "#labels = [0, 1, 2] \n",
    "# Function to explain a single prediction using LIME\n",
    "#def explain_instance(input_text, num_features=10, num_samples=100):\n",
    "#    explanation = explainer.explain_instance(input_text, predict, num_features=num_features,  num_samples=num_samples, labels=labels)\n",
    "    # Display the explanation for the input instance\n",
    "#    explanation.show_in_notebook()"
   ]
  },
  {
   "cell_type": "code",
   "execution_count": null,
   "metadata": {},
   "outputs": [],
   "source": [
    "# Example of explaining a test instance\n",
    "##test_instance = [test_data['conversation'].iloc[0]]  # Take the first conversation from the test set\n",
    "#explanation = explainer.explain_instance(test_instance[0], predict, num_features=6, num_samples=100, labels=labels )"
   ]
  },
  {
   "cell_type": "markdown",
   "metadata": {},
   "source": [
    "**First round of tuning**"
   ]
  },
  {
   "cell_type": "markdown",
   "metadata": {},
   "source": [
    "Adjust Learning Rate and Batch Size"
   ]
  },
  {
   "cell_type": "markdown",
   "metadata": {},
   "source": [
    "Increasing the batch size from 2 to 4 made vscode crashing due to high memory consumption, especially during training and data loading.\n"
   ]
  },
  {
   "cell_type": "markdown",
   "metadata": {},
   "source": [
    "So, trying increasing learning rate only"
   ]
  },
  {
   "cell_type": "code",
   "execution_count": null,
   "metadata": {},
   "outputs": [
    {
     "name": "stderr",
     "output_type": "stream",
     "text": [
      "C:\\Users\\pc\\AppData\\Roaming\\Python\\Python312\\site-packages\\transformers\\optimization.py:591: FutureWarning: This implementation of AdamW is deprecated and will be removed in a future version. Use the PyTorch implementation torch.optim.AdamW instead, or set `no_deprecation_warning=True` to disable this warning\n",
      "  warnings.warn(\n"
     ]
    }
   ],
   "source": [
    "# First Round\n",
    "learning_rate = 1e-4  # Adjust learning rate\n",
    "#batch_size = 4  # Adjust batch size\n",
    "batch_size = 2\n",
    "\n",
    "optimizer = AdamW(filter(lambda p: p.requires_grad, model.parameters()), lr=learning_rate)\n",
    "\n",
    "\n",
    "train_loader = DataLoader(train_dataset, batch_size=batch_size, shuffle=True)\n",
    "val_loader = DataLoader(val_dataset, batch_size=batch_size)\n",
    "test_loader = DataLoader(test_dataset, batch_size=batch_size)"
   ]
  },
  {
   "cell_type": "code",
   "execution_count": null,
   "metadata": {},
   "outputs": [
    {
     "name": "stdout",
     "output_type": "stream",
     "text": [
      "Using device: cpu\n"
     ]
    },
    {
     "data": {
      "text/plain": [
       "GPT2LMHeadModel(\n",
       "  (transformer): GPT2Model(\n",
       "    (wte): Embedding(50258, 768)\n",
       "    (wpe): Embedding(1024, 768)\n",
       "    (drop): Dropout(p=0.1, inplace=False)\n",
       "    (h): ModuleList(\n",
       "      (0-11): 12 x GPT2Block(\n",
       "        (ln_1): LayerNorm((768,), eps=1e-05, elementwise_affine=True)\n",
       "        (attn): GPT2SdpaAttention(\n",
       "          (c_attn): Conv1D(nf=2304, nx=768)\n",
       "          (c_proj): Conv1D(nf=768, nx=768)\n",
       "          (attn_dropout): Dropout(p=0.1, inplace=False)\n",
       "          (resid_dropout): Dropout(p=0.1, inplace=False)\n",
       "        )\n",
       "        (ln_2): LayerNorm((768,), eps=1e-05, elementwise_affine=True)\n",
       "        (mlp): GPT2MLP(\n",
       "          (c_fc): Conv1D(nf=3072, nx=768)\n",
       "          (c_proj): Conv1D(nf=768, nx=3072)\n",
       "          (act): NewGELUActivation()\n",
       "          (dropout): Dropout(p=0.1, inplace=False)\n",
       "        )\n",
       "      )\n",
       "    )\n",
       "    (ln_f): LayerNorm((768,), eps=1e-05, elementwise_affine=True)\n",
       "  )\n",
       "  (lm_head): Linear(in_features=768, out_features=50258, bias=False)\n",
       ")"
      ]
     },
     "execution_count": 31,
     "metadata": {},
     "output_type": "execute_result"
    }
   ],
   "source": [
    "device = torch.device( \"cpu\")\n",
    "print(f\"Using device: {device}\")\n",
    "\n",
    "model.to(device)\n"
   ]
  },
  {
   "cell_type": "code",
   "execution_count": 32,
   "metadata": {},
   "outputs": [
    {
     "name": "stderr",
     "output_type": "stream",
     "text": [
      "Epoch 1/3: 100%|██████████| 13/13 [02:05<00:00,  9.67s/it]\n"
     ]
    },
    {
     "name": "stdout",
     "output_type": "stream",
     "text": [
      "Epoch 1 Loss: 6.3317\n"
     ]
    },
    {
     "name": "stderr",
     "output_type": "stream",
     "text": [
      "Epoch 2/3: 100%|██████████| 13/13 [01:38<00:00,  7.57s/it]\n"
     ]
    },
    {
     "name": "stdout",
     "output_type": "stream",
     "text": [
      "Epoch 2 Loss: 3.9096\n"
     ]
    },
    {
     "name": "stderr",
     "output_type": "stream",
     "text": [
      "Epoch 3/3: 100%|██████████| 13/13 [01:38<00:00,  7.61s/it]"
     ]
    },
    {
     "name": "stdout",
     "output_type": "stream",
     "text": [
      "Epoch 3 Loss: 1.5481\n"
     ]
    },
    {
     "name": "stderr",
     "output_type": "stream",
     "text": [
      "\n"
     ]
    }
   ],
   "source": [
    "epochs = 3\n",
    "for epoch in range(epochs):\n",
    "    model.train()\n",
    "    epoch_loss = 0\n",
    "    for batch in tqdm(train_loader, desc=f\"Epoch {epoch+1}/{epochs}\"):\n",
    "        optimizer.zero_grad()\n",
    "        input_ids = batch[\"input_ids\"].to(device)\n",
    "        attention_mask = batch[\"attention_mask\"].to(device)\n",
    "\n",
    "        outputs = model(input_ids=input_ids, attention_mask=attention_mask, labels=input_ids)\n",
    "        loss = outputs.loss\n",
    "        loss.backward()\n",
    "        optimizer.step()\n",
    "        epoch_loss += loss.item()\n",
    "\n",
    "    avg_loss = epoch_loss / len(train_loader)\n",
    "    print(f\"Epoch {epoch+1} Loss: {avg_loss:.4f}\")\n"
   ]
  },
  {
   "cell_type": "code",
   "execution_count": 33,
   "metadata": {},
   "outputs": [
    {
     "name": "stdout",
     "output_type": "stream",
     "text": [
      "ROUGE-L: 0.7967323161792907\n",
      "BERT Score: [0.838638961315155, 0.8232792615890503, 0.9712232351303101, 0.7971480488777161, 0.8147158026695251, 0.9561942219734192, 0.8509508967399597, 0.8607290983200073, 0.8783012628555298, 0.8457299470901489, 0.9734296798706055, 0.9757768511772156]\n"
     ]
    }
   ],
   "source": [
    "\n",
    "# Compute metrics\n",
    "rouge_scores = rouge.compute(predictions=generated_responses, references=ground_truths)\n",
    "bert_scores = bert_score.compute(predictions=generated_responses, references=ground_truths, model_type=\"bert-base-uncased\")\n",
    "\n",
    "# Display scores\n",
    "print(\"ROUGE-L:\", rouge_scores[\"rougeL\"])\n",
    "print(\"BERT Score:\", bert_scores[\"f1\"])\n"
   ]
  },
  {
   "cell_type": "markdown",
   "metadata": {},
   "source": [
    "**Second Round of Tuning**"
   ]
  },
  {
   "cell_type": "code",
   "execution_count": 34,
   "metadata": {},
   "outputs": [],
   "source": [
    "augmented_conversations = train_data['conversation'].tolist()\n",
    "\n",
    "# Adding synthetic prompts\n",
    "synthetic_prompts = [\n",
    "    \"Human: Hello, how can I assist you today? GPT: I'm here to help with any questions!\",\n",
    "    \"Human: Can you recommend some movies? GPT: Sure! What genre do you prefer?\",\n",
    "]\n",
    "augmented_conversations.extend(synthetic_prompts)\n",
    "\n",
    "# Create a new dataset with augmented data\n",
    "augmented_dataset = ChatDataset(augmented_conversations, tokenizer)\n",
    "train_loader_augmented = DataLoader(augmented_dataset, batch_size=batch_size, shuffle=True)\n"
   ]
  },
  {
   "cell_type": "code",
   "execution_count": 35,
   "metadata": {},
   "outputs": [
    {
     "name": "stderr",
     "output_type": "stream",
     "text": [
      "Epoch 1/3: 100%|██████████| 14/14 [02:37<00:00, 11.23s/it]\n"
     ]
    },
    {
     "name": "stdout",
     "output_type": "stream",
     "text": [
      "Epoch 1 Loss: 0.5878\n"
     ]
    },
    {
     "name": "stderr",
     "output_type": "stream",
     "text": [
      "Epoch 2/3: 100%|██████████| 14/14 [02:11<00:00,  9.36s/it]\n"
     ]
    },
    {
     "name": "stdout",
     "output_type": "stream",
     "text": [
      "Epoch 2 Loss: 0.4380\n"
     ]
    },
    {
     "name": "stderr",
     "output_type": "stream",
     "text": [
      "Epoch 3/3: 100%|██████████| 14/14 [01:48<00:00,  7.72s/it]"
     ]
    },
    {
     "name": "stdout",
     "output_type": "stream",
     "text": [
      "Epoch 3 Loss: 0.3695\n"
     ]
    },
    {
     "name": "stderr",
     "output_type": "stream",
     "text": [
      "\n"
     ]
    }
   ],
   "source": [
    "from tqdm import tqdm\n",
    "from transformers import AdamW\n",
    "\n",
    "# Define the optimizer for the augmented training\n",
    "optimizer = AdamW(filter(lambda p: p.requires_grad, model.parameters()), lr=3e-5)  # Adjusted learning rate\n",
    "\n",
    "# Training loop with augmented data\n",
    "epochs = 3  # You can adjust the number of epochs\n",
    "for epoch in range(epochs):\n",
    "    model.train()\n",
    "    epoch_loss = 0\n",
    "    for batch in tqdm(train_loader_augmented, desc=f\"Epoch {epoch+1}/{epochs}\"):\n",
    "        optimizer.zero_grad()\n",
    "\n",
    "        # Move batch to device\n",
    "        input_ids = batch[\"input_ids\"].to(device)\n",
    "        attention_mask = batch[\"attention_mask\"].to(device)\n",
    "\n",
    "        # Forward pass\n",
    "        outputs = model(input_ids=input_ids, attention_mask=attention_mask, labels=input_ids)\n",
    "        loss = outputs.loss\n",
    "\n",
    "        # Backward pass\n",
    "        loss.backward()\n",
    "        optimizer.step()\n",
    "\n",
    "        epoch_loss += loss.item()\n",
    "\n",
    "    avg_loss = epoch_loss / len(train_loader_augmented)\n",
    "    print(f\"Epoch {epoch+1} Loss: {avg_loss:.4f}\")\n"
   ]
  },
  {
   "cell_type": "code",
   "execution_count": 36,
   "metadata": {},
   "outputs": [
    {
     "name": "stdout",
     "output_type": "stream",
     "text": [
      "ROUGE-L: 0.7772292973259689\n",
      "BERT Score (F1): [0.8855832815170288, 0.9565747380256653, 0.9999998807907104, 0.9118945598602295, 0.8849402666091919, 0.9001768827438354, 0.7956093549728394, 0.8433223366737366, 0.8383560180664062, 0.7773559093475342, 0.8929117918014526, 0.7789052128791809]\n"
     ]
    }
   ],
   "source": [
    "# Function to generate responses (defined earlier)\n",
    "def generate_response(prompt, model, tokenizer, max_new_tokens=50):\n",
    "    input_ids = tokenizer(prompt, return_tensors=\"pt\").input_ids.to(device)\n",
    "    output_ids = model.generate(\n",
    "        input_ids,\n",
    "        max_new_tokens=max_new_tokens,\n",
    "        pad_token_id=tokenizer.pad_token_id\n",
    "    )\n",
    "    return tokenizer.decode(output_ids[0], skip_special_tokens=True)\n",
    "\n",
    "# Evaluate on the validation set\n",
    "model.eval()\n",
    "generated_responses = []\n",
    "ground_truths = []\n",
    "\n",
    "for batch in val_loader:\n",
    "    for input_ids in batch[\"input_ids\"]:\n",
    "        # Decode the input prompt\n",
    "        prompt = tokenizer.decode(input_ids, skip_special_tokens=True)\n",
    "\n",
    "        # Generate a response\n",
    "        response = generate_response(prompt, model, tokenizer, max_new_tokens=50)\n",
    "\n",
    "        # Collect responses\n",
    "        generated_responses.append(response)\n",
    "        ground_truths.append(prompt)\n",
    "\n",
    "# Load and compute evaluation metrics\n",
    "from evaluate import load\n",
    "\n",
    "rouge = load(\"rouge\")\n",
    "bert_score = load(\"bertscore\")\n",
    "\n",
    "rouge_scores = rouge.compute(predictions=generated_responses, references=ground_truths)\n",
    "bert_scores = bert_score.compute(predictions=generated_responses, references=ground_truths, model_type=\"bert-base-uncased\")\n",
    "\n",
    "# Display evaluation metrics\n",
    "print(\"ROUGE-L:\", rouge_scores[\"rougeL\"])\n",
    "print(\"BERT Score (F1):\", bert_scores[\"f1\"])\n"
   ]
  },
  {
   "cell_type": "markdown",
   "metadata": {},
   "source": [
    "Determining AUC value"
   ]
  },
  {
   "cell_type": "code",
   "execution_count": 43,
   "metadata": {},
   "outputs": [],
   "source": [
    "import pandas as pd\n",
    "from sklearn.model_selection import train_test_split\n",
    "from sklearn.feature_extraction.text import TfidfVectorizer\n",
    "from sklearn.linear_model import LogisticRegression\n",
    "from sklearn.metrics import roc_auc_score\n",
    "import matplotlib.pyplot as plt\n",
    "from sklearn.metrics import roc_curve, roc_auc_score"
   ]
  },
  {
   "cell_type": "code",
   "execution_count": 44,
   "metadata": {},
   "outputs": [],
   "source": [
    "# Combine human and GPT responses into a single dataset with labels\n",
    "data = {\n",
    "    \"response\": sample_data['human'].tolist() + sample_data['gpt'].tolist(),\n",
    "    \"label\": [1] * len(sample_data['human']) + [0] * len(sample_data['gpt'])  # 1 for human, 0 for GPT\n",
    "}\n",
    "\n",
    "df = pd.DataFrame(data)"
   ]
  },
  {
   "cell_type": "code",
   "execution_count": 45,
   "metadata": {},
   "outputs": [],
   "source": [
    "X_train, X_test, y_train, y_test = train_test_split(df[\"response\"], df[\"label\"], test_size=0.2, random_state=42)"
   ]
  },
  {
   "cell_type": "code",
   "execution_count": 47,
   "metadata": {},
   "outputs": [],
   "source": [
    "# Convert text data into TF-IDF features\n",
    "vectorizer = TfidfVectorizer()\n",
    "X_train_tfidf = vectorizer.fit_transform(X_train)\n",
    "X_test_tfidf = vectorizer.transform(X_test)\n"
   ]
  },
  {
   "cell_type": "code",
   "execution_count": 48,
   "metadata": {},
   "outputs": [
    {
     "name": "stdout",
     "output_type": "stream",
     "text": [
      "AUC Score: 1.0000\n"
     ]
    }
   ],
   "source": [
    "#train a logistic regression classifier\n",
    "classifier = LogisticRegression(random_state=42)\n",
    "classifier.fit(X_train_tfidf, y_train)\n",
    "\n",
    "y_probs = classifier.predict_proba(X_test_tfidf)[:, 1]  # Probabilities for the positive class (human)\n",
    "\n",
    "#Compute AUC\n",
    "auc_score = roc_auc_score(y_test, y_probs)\n",
    "print(f\"AUC Score: {auc_score:.4f}\")\n"
   ]
  },
  {
   "cell_type": "code",
   "execution_count": 49,
   "metadata": {},
   "outputs": [
    {
     "data": {
      "image/png": "[encoded data removed]",
      "text/plain": [
       "<Figure size 800x600 with 1 Axes>"
      ]
     },
     "metadata": {},
     "output_type": "display_data"
    }
   ],
   "source": [
    "fpr, tpr, thresholds = roc_curve(y_test, y_probs)\n",
    "\n",
    "# Plot the ROC curve\n",
    "plt.figure(figsize=(8, 6))\n",
    "plt.plot(fpr, tpr, label=f\"ROC Curve (AUC = {auc_score:.2f})\", color='blue', linewidth=2)\n",
    "plt.plot([0, 1], [0, 1], linestyle=\"--\", color=\"gray\", label=\"Random Guess\")\n",
    "plt.xlabel(\"False Positive Rate (FPR)\")\n",
    "plt.ylabel(\"True Positive Rate (TPR)\")\n",
    "plt.title(\"ROC Curve\")\n",
    "plt.legend(loc=\"lower right\")\n",
    "plt.grid(alpha=0.3)\n",
    "plt.show()\n"
   ]
  },
  {
   "cell_type": "code",
   "execution_count": null,
   "metadata": {},
   "outputs": [
    {
     "name": "stdout",
     "output_type": "stream",
     "text": [
      "Defaulting to user installation because normal site-packages is not writeableNote: you may need to restart the kernel to use updated packages.\n"
     ]
    },
    {
     "name": "stderr",
     "output_type": "stream",
     "text": [
      "\n",
      "[notice] A new release of pip is available: 24.2 -> 24.3.1\n",
      "[notice] To update, run: python.exe -m pip install --upgrade pip\n"
     ]
    },
    {
     "name": "stdout",
     "output_type": "stream",
     "text": [
      "\n",
      "Requirement already satisfied: torch in c:\\users\\pc\\appdata\\roaming\\python\\python312\\site-packages (2.5.1+cu118)\n",
      "Requirement already satisfied: transformers in c:\\users\\pc\\appdata\\roaming\\python\\python312\\site-packages (4.46.3)\n",
      "Requirement already satisfied: streamlit in c:\\users\\pc\\appdata\\roaming\\python\\python312\\site-packages (1.38.0)\n",
      "Requirement already satisfied: filelock in c:\\users\\pc\\appdata\\roaming\\python\\python312\\site-packages (from torch) (3.16.1)\n",
      "Requirement already satisfied: typing-extensions>=4.8.0 in c:\\users\\pc\\appdata\\roaming\\python\\python312\\site-packages (from torch) (4.12.2)\n",
      "Requirement already satisfied: networkx in c:\\users\\pc\\appdata\\roaming\\python\\python312\\site-packages (from torch) (3.3)\n",
      "Requirement already satisfied: jinja2 in c:\\users\\pc\\appdata\\roaming\\python\\python312\\site-packages (from torch) (3.1.4)\n",
      "Requirement already satisfied: fsspec in c:\\users\\pc\\appdata\\roaming\\python\\python312\\site-packages (from torch) (2024.9.0)\n",
      "Requirement already satisfied: setuptools in c:\\users\\pc\\appdata\\roaming\\python\\python312\\site-packages (from torch) (75.1.0)\n",
      "Requirement already satisfied: sympy==1.13.1 in c:\\users\\pc\\appdata\\roaming\\python\\python312\\site-packages (from torch) (1.13.1)\n",
      "Requirement already satisfied: mpmath<1.4,>=1.1.0 in c:\\users\\pc\\appdata\\roaming\\python\\python312\\site-packages (from sympy==1.13.1->torch) (1.3.0)\n",
      "Requirement already satisfied: huggingface-hub<1.0,>=0.23.2 in c:\\users\\pc\\appdata\\roaming\\python\\python312\\site-packages (from transformers) (0.26.2)\n",
      "Requirement already satisfied: numpy>=1.17 in c:\\users\\pc\\appdata\\roaming\\python\\python312\\site-packages (from transformers) (1.26.4)\n",
      "Requirement already satisfied: packaging>=20.0 in c:\\users\\pc\\appdata\\roaming\\python\\python312\\site-packages (from transformers) (23.2)\n",
      "Requirement already satisfied: pyyaml>=5.1 in c:\\users\\pc\\appdata\\roaming\\python\\python312\\site-packages (from transformers) (6.0.2)\n",
      "Requirement already satisfied: regex!=2019.12.17 in c:\\users\\pc\\appdata\\roaming\\python\\python312\\site-packages (from transformers) (2023.10.3)\n",
      "Requirement already satisfied: requests in c:\\users\\pc\\appdata\\roaming\\python\\python312\\site-packages (from transformers) (2.32.3)\n",
      "Requirement already satisfied: tokenizers<0.21,>=0.20 in c:\\users\\pc\\appdata\\roaming\\python\\python312\\site-packages (from transformers) (0.20.3)\n",
      "Requirement already satisfied: safetensors>=0.4.1 in c:\\users\\pc\\appdata\\roaming\\python\\python312\\site-packages (from transformers) (0.4.5)\n",
      "Requirement already satisfied: tqdm>=4.27 in c:\\users\\pc\\appdata\\roaming\\python\\python312\\site-packages (from transformers) (4.66.6)\n",
      "Requirement already satisfied: altair<6,>=4.0 in c:\\users\\pc\\appdata\\roaming\\python\\python312\\site-packages (from streamlit) (5.4.1)\n",
      "Requirement already satisfied: blinker<2,>=1.0.0 in c:\\users\\pc\\appdata\\roaming\\python\\python312\\site-packages (from streamlit) (1.8.2)\n",
      "Requirement already satisfied: cachetools<6,>=4.0 in c:\\users\\pc\\appdata\\roaming\\python\\python312\\site-packages (from streamlit) (5.5.0)\n",
      "Requirement already satisfied: click<9,>=7.0 in c:\\users\\pc\\appdata\\roaming\\python\\python312\\site-packages (from streamlit) (8.1.7)\n",
      "Requirement already satisfied: pandas<3,>=1.3.0 in c:\\users\\pc\\appdata\\roaming\\python\\python312\\site-packages (from streamlit) (2.1.3)\n",
      "Requirement already satisfied: pillow<11,>=7.1.0 in c:\\users\\pc\\appdata\\roaming\\python\\python312\\site-packages (from streamlit) (10.0.1)\n",
      "Requirement already satisfied: protobuf<6,>=3.20 in c:\\users\\pc\\appdata\\roaming\\python\\python312\\site-packages (from streamlit) (4.25.5)\n",
      "Requirement already satisfied: pyarrow>=7.0 in c:\\users\\pc\\appdata\\roaming\\python\\python312\\site-packages (from streamlit) (17.0.0)\n",
      "Requirement already satisfied: rich<14,>=10.14.0 in c:\\users\\pc\\appdata\\roaming\\python\\python312\\site-packages (from streamlit) (13.8.1)\n",
      "Requirement already satisfied: tenacity<9,>=8.1.0 in c:\\users\\pc\\appdata\\roaming\\python\\python312\\site-packages (from streamlit) (8.5.0)\n",
      "Requirement already satisfied: toml<2,>=0.10.1 in c:\\users\\pc\\appdata\\roaming\\python\\python312\\site-packages (from streamlit) (0.10.2)\n",
      "Requirement already satisfied: gitpython!=3.1.19,<4,>=3.0.7 in c:\\users\\pc\\appdata\\roaming\\python\\python312\\site-packages (from streamlit) (3.1.43)\n",
      "Requirement already satisfied: pydeck<1,>=0.8.0b4 in c:\\users\\pc\\appdata\\roaming\\python\\python312\\site-packages (from streamlit) (0.9.1)\n",
      "Requirement already satisfied: tornado<7,>=6.0.3 in c:\\users\\pc\\appdata\\roaming\\python\\python312\\site-packages (from streamlit) (6.3.3)\n",
      "Requirement already satisfied: watchdog<5,>=2.1.5 in c:\\users\\pc\\appdata\\roaming\\python\\python312\\site-packages (from streamlit) (4.0.2)\n",
      "Requirement already satisfied: jsonschema>=3.0 in c:\\users\\pc\\appdata\\roaming\\python\\python312\\site-packages (from altair<6,>=4.0->streamlit) (4.23.0)\n",
      "Requirement already satisfied: narwhals>=1.5.2 in c:\\users\\pc\\appdata\\roaming\\python\\python312\\site-packages (from altair<6,>=4.0->streamlit) (1.8.4)\n",
      "Requirement already satisfied: colorama in c:\\users\\pc\\appdata\\roaming\\python\\python312\\site-packages (from click<9,>=7.0->streamlit) (0.4.6)\n",
      "Requirement already satisfied: gitdb<5,>=4.0.1 in c:\\users\\pc\\appdata\\roaming\\python\\python312\\site-packages (from gitpython!=3.1.19,<4,>=3.0.7->streamlit) (4.0.11)\n",
      "Requirement already satisfied: python-dateutil>=2.8.2 in c:\\users\\pc\\appdata\\roaming\\python\\python312\\site-packages (from pandas<3,>=1.3.0->streamlit) (2.8.2)\n",
      "Requirement already satisfied: pytz>=2020.1 in c:\\users\\pc\\appdata\\roaming\\python\\python312\\site-packages (from pandas<3,>=1.3.0->streamlit) (2023.3.post1)\n",
      "Requirement already satisfied: tzdata>=2022.1 in c:\\users\\pc\\appdata\\roaming\\python\\python312\\site-packages (from pandas<3,>=1.3.0->streamlit) (2023.3)\n",
      "Requirement already satisfied: MarkupSafe>=2.0 in c:\\users\\pc\\appdata\\roaming\\python\\python312\\site-packages (from jinja2->torch) (2.1.5)\n",
      "Requirement already satisfied: charset-normalizer<4,>=2 in c:\\users\\pc\\appdata\\roaming\\python\\python312\\site-packages (from requests->transformers) (3.3.2)\n",
      "Requirement already satisfied: idna<4,>=2.5 in c:\\users\\pc\\appdata\\roaming\\python\\python312\\site-packages (from requests->transformers) (3.10)\n",
      "Requirement already satisfied: urllib3<3,>=1.21.1 in c:\\users\\pc\\appdata\\roaming\\python\\python312\\site-packages (from requests->transformers) (2.2.3)\n",
      "Requirement already satisfied: certifi>=2017.4.17 in c:\\users\\pc\\appdata\\roaming\\python\\python312\\site-packages (from requests->transformers) (2024.8.30)\n",
      "Requirement already satisfied: markdown-it-py>=2.2.0 in c:\\users\\pc\\appdata\\roaming\\python\\python312\\site-packages (from rich<14,>=10.14.0->streamlit) (3.0.0)\n",
      "Requirement already satisfied: pygments<3.0.0,>=2.13.0 in c:\\users\\pc\\appdata\\roaming\\python\\python312\\site-packages (from rich<14,>=10.14.0->streamlit) (2.16.1)\n",
      "Requirement already satisfied: smmap<6,>=3.0.1 in c:\\users\\pc\\appdata\\roaming\\python\\python312\\site-packages (from gitdb<5,>=4.0.1->gitpython!=3.1.19,<4,>=3.0.7->streamlit) (5.0.1)\n",
      "Requirement already satisfied: attrs>=22.2.0 in c:\\users\\pc\\appdata\\roaming\\python\\python312\\site-packages (from jsonschema>=3.0->altair<6,>=4.0->streamlit) (24.2.0)\n",
      "Requirement already satisfied: jsonschema-specifications>=2023.03.6 in c:\\users\\pc\\appdata\\roaming\\python\\python312\\site-packages (from jsonschema>=3.0->altair<6,>=4.0->streamlit) (2023.12.1)\n",
      "Requirement already satisfied: referencing>=0.28.4 in c:\\users\\pc\\appdata\\roaming\\python\\python312\\site-packages (from jsonschema>=3.0->altair<6,>=4.0->streamlit) (0.35.1)\n",
      "Requirement already satisfied: rpds-py>=0.7.1 in c:\\users\\pc\\appdata\\roaming\\python\\python312\\site-packages (from jsonschema>=3.0->altair<6,>=4.0->streamlit) (0.20.0)\n",
      "Requirement already satisfied: mdurl~=0.1 in c:\\users\\pc\\appdata\\roaming\\python\\python312\\site-packages (from markdown-it-py>=2.2.0->rich<14,>=10.14.0->streamlit) (0.1.2)\n",
      "Requirement already satisfied: six>=1.5 in c:\\users\\pc\\appdata\\roaming\\python\\python312\\site-packages (from python-dateutil>=2.8.2->pandas<3,>=1.3.0->streamlit) (1.16.0)\n"
     ]
    }
   ],
   "source": [
    "%pip install torch transformers streamlit\n"
   ]
  },
  {
   "cell_type": "code",
   "execution_count": null,
   "metadata": {},
   "outputs": [
    {
     "data": {
      "text/plain": [
       "('gpt2_finetuned\\\\tokenizer_config.json',\n",
       " 'gpt2_finetuned\\\\special_tokens_map.json',\n",
       " 'gpt2_finetuned\\\\vocab.json',\n",
       " 'gpt2_finetuned\\\\merges.txt',\n",
       " 'gpt2_finetuned\\\\added_tokens.json')"
      ]
     },
     "execution_count": 36,
     "metadata": {},
     "output_type": "execute_result"
    }
   ],
   "source": [
    "# Save the model and tokenizer\n",
    "model.save_pretrained(\"gpt2_finetuned\")\n",
    "tokenizer.save_pretrained(\"gpt2_finetuned\")\n"
   ]
  },
  {
   "cell_type": "code",
   "execution_count": null,
   "metadata": {},
   "outputs": [],
   "source": []
  }
 ],
 "metadata": {
  "kernelspec": {
   "display_name": "Python 3",
   "language": "python",
   "name": "python3"
  },
  "language_info": {
   "codemirror_mode": {
    "name": "ipython",
    "version": 3
   },
   "file_extension": ".py",
   "mimetype": "text/x-python",
   "name": "python",
   "nbconvert_exporter": "python",
   "pygments_lexer": "ipython3",
   "version": "3.12.0"
  }
 },
 "nbformat": 4,
 "nbformat_minor": 2
}
